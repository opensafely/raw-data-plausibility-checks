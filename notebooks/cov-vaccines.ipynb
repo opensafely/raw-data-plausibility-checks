{
 "cells": [
  {
   "cell_type": "markdown",
   "id": "618abdaa",
   "metadata": {},
   "source": [
    "# COVID Vaccine sense-checking\n",
    "\n",
    "This notebook performs various checks on the vaccination table, filtered to COVID vaccines only. \n",
    "\n",
    "Checks include:\n",
    "- Distinct vaccine names available \n",
    "- Possible values for schedule_part\n",
    "- Range of dates for each vaccine\n",
    "- Number of vaccines per patient\n",
    "\n",
    "**Note: all row/patient counts are rounded to the nearest 10 and counts <=5 removed**\n"
   ]
  },
  {
   "cell_type": "code",
   "execution_count": null,
   "id": "facial-court",
   "metadata": {},
   "outputs": [],
   "source": [
    "## Import libraries\n",
    "\n",
    "# %load_ext autoreload\n",
    "# %autoreload 2\n",
    "\n",
    "import pyodbc\n",
    "import os\n",
    "import pandas as pd\n",
    "import numpy as np\n",
    "from datetime import date, datetime\n",
    "from IPython.display import display, Markdown\n",
    "\n",
    "import sys\n",
    "sys.path.append('../analysis/')\n",
    "from utilities import *\n",
    "from sense_checking import *\n",
    "\n",
    "pd.set_option('display.max_colwidth', 250)\n",
    "\n",
    "# get the server credentials from environ.txt\n",
    "dbconn = os.environ.get('FULL_DATABASE_URL', None).strip('\"')"
   ]
  },
  {
   "cell_type": "code",
   "execution_count": null,
   "id": "agreed-protection",
   "metadata": {},
   "outputs": [],
   "source": [
    "## Notebook run date\n",
    "\n",
    "display(Markdown(f\"\"\"This notebook was run on {date.today().strftime('%Y-%m-%d')}.  The information below reflects the state of this dataset in OpenSAFELY-TPP as at this date.\"\"\"))\n"
   ]
  },
  {
   "cell_type": "code",
   "execution_count": null,
   "id": "professional-extraction",
   "metadata": {},
   "outputs": [],
   "source": [
    "## Identify all COVID vaccines, from VaccinationReference table\n",
    "\n",
    "vax_list_names = simple_sql(dbconn, table=\"VaccinationReference\", col=\"VaccinationName_ID, VaccinationName\", \n",
    "                       where=\"\"\"LOWER(VaccinationContent) LIKE '%cov%' \n",
    "                                  or LOWER(VaccinationContent) LIKE '%coron%'\n",
    "                                  or LOWER(VaccinationContent) LIKE '%sars%'\"\"\")\n",
    "display(vax_list_names)\n",
    "vax_list = [str(x) for x in vax_list_names[\"VaccinationName_ID\"]]\n",
    "vax_list_str = ','.join(vax_list)"
   ]
  },
  {
   "cell_type": "code",
   "execution_count": null,
   "id": "expected-cliff",
   "metadata": {},
   "outputs": [],
   "source": [
    "## Schema\n",
    "\n",
    "table = \"Vaccination\"\n",
    "where = {\"\": f\"where vaccinationName_ID IN ({vax_list_str})\"}\n",
    "\n",
    "get_schema(dbconn, table, where)"
   ]
  },
  {
   "cell_type": "code",
   "execution_count": null,
   "id": "built-partition",
   "metadata": {},
   "outputs": [],
   "source": [
    "where = f\"vaccinationName_ID IN ({vax_list_str})\"\n",
    "columns = [\"VaccinationName\", \"VaccinationDate\", \"VaccinationSchedulePart\"]\n",
    "threshold = 50\n",
    "    \n",
    "counts_of_distinct_values(dbconn, table, columns, threshold=threshold, where=where, include_counts=True)"
   ]
  },
  {
   "cell_type": "code",
   "execution_count": null,
   "id": "soviet-eight",
   "metadata": {},
   "outputs": [],
   "source": [
    "## Dates per vaccine\n",
    "\n",
    "columns = [\"VaccinationDate\"]\n",
    "vaccines = vax_list\n",
    "filters = [f\"vaccinationName_ID = '{v}'\" for v in vaccines]\n",
    "\n",
    "for w in filters:\n",
    "    counts_of_distinct_values(dbconn, table, columns=columns, threshold=3, where=w, sort_values=True) \n"
   ]
  },
  {
   "cell_type": "code",
   "execution_count": null,
   "id": "nutritional-actor",
   "metadata": {},
   "outputs": [],
   "source": [
    "## Patients with multiple records\n",
    "\n",
    "counts_of_distinct_values(dbconn, table, columns=[\"patient_id\"], threshold=50, where=where, frequency_count=True)  "
   ]
  }
 ],
 "metadata": {
  "language_info": {
   "name": "python"
  }
 },
 "nbformat": 4,
 "nbformat_minor": 5
}
