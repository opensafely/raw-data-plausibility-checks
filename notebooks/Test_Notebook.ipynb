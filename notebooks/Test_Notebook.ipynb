{
 "cells": [
  {
   "cell_type": "markdown",
   "id": "younger-jonathan",
   "metadata": {},
   "source": [
    "# Raw data checks for table `therapeutics`\n",
    "\n",
    "### Methods\n",
    "The therapeutics dataset has been linked to patients in OpenSAFELY-TPP, covering 40% of England's population.\n",
    "All row/patient counts are rounded to the nearest 10 and counts <=7 removed.\n",
    "All analytical code and output is available for inspection at the [OpenSAFELY GitHub repository](https://github.com/opensafely)\n"
   ]
  },
  {
   "cell_type": "code",
   "execution_count": null,
   "id": "legendary-senate",
   "metadata": {},
   "outputs": [],
   "source": [
    "import sys\n",
    "import os\n",
    "import pandas as pd\n",
    "import numpy as np\n",
    "import matplotlib.pyplot as plt\n",
    "from pandas.plotting import register_matplotlib_converters\n",
    "register_matplotlib_converters()\n",
    "from IPython.display import HTML\n",
    "from IPython.display import Markdown as md\n",
    "from IPython.core.display import HTML as Center\n",
    "from IPython.display import Image, display\n",
    "%matplotlib inline\n",
    "import pyodbc\n",
    "from datetime import date, datetime\n",
    "\n",
    "sys.path.append('../analysis/')\n",
    "from utilities import *\n",
    "from sense_checking import *\n",
    "from config import dbconn, dataset, columns_to_describe, duplicates\n",
    "\n",
    "pd.set_option('display.max_colwidth', 250)\n",
    "\n",
    "# get the server credentials\n",
    "dbconn = os.environ.get('FULL_DATABASE_URL', None).strip('\"')\n",
    "\n"
   ]
  },
  {
   "cell_type": "code",
   "execution_count": null,
   "id": "premier-editing",
   "metadata": {},
   "outputs": [],
   "source": [
    "\n",
    "display(\n",
    "md(f'''This notebook was run on {date.today().strftime('%Y-%m-%d')}\n",
    "    and reflects the dataset at this date, \n",
    "    but has been filtered to `{schema_filter}`.\n",
    "    ''')\n",
    ")"
   ]
  },
  {
   "cell_type": "code",
   "execution_count": null,
   "id": "laughing-jefferson",
   "metadata": {},
   "outputs": [],
   "source": [
    "\n",
    "display(md(\"### Schema\"))\n",
    "get_schema(dbconn, table=dataset, where=schema_filter)\n"
   ]
  },
  {
   "cell_type": "code",
   "execution_count": null,
   "id": "breathing-thermal",
   "metadata": {},
   "outputs": [],
   "source": [
    "\n",
    "display(md(\"### Column Summaries\"))\n",
    "\n",
    "counts_of_distinct_values(dbconn, table=dataset, \n",
    "    columns=columns_to_describe[\"columns\"], \n",
    "    threshold=columns_to_describe[\"threshold\"], \n",
    "    where=columns_to_describe[\"where\"],\n",
    "    include_counts=columns_to_describe[\"include_counts\"]\n",
    "    )\n"
   ]
  }
 ],
 "metadata": {},
 "nbformat": 4,
 "nbformat_minor": 5
}
