{
 "cells": [
  {
   "cell_type": "code",
   "execution_count": null,
   "metadata": {},
   "outputs": [],
   "source": [
    "\n",
    "import pandas as pd\n",
    "import numpy as np\n",
    "import matplotlib.pyplot as plt\n",
    "from pandas.plotting import register_matplotlib_converters\n",
    "register_matplotlib_converters()\n",
    "from IPython.display import HTML\n",
    "from IPython.display import Markdown as md\n",
    "from IPython.core.display import HTML as Center\n",
    "from config_numeric_value_checks import *\n",
    "from IPython.display import Image, display\n",
    "%matplotlib inline\n",
    "\n",
    "import pyodbc\n",
    "import os\n",
    "from datetime import date, datetime\n",
    "\n",
    "import sys\n",
    "sys.path.append('../analysis/')\n",
    "from utilities import import_codelist\n",
    "from numeric_value_functions import *\n",
    "\n",
    "pd.set_option('display.max_colwidth', 250)\n",
    "\n",
    "# get the server credentials\n",
    "dbconn = os.environ.get('FULL_DATABASE_URL', None).strip('\"')\n",
    "\n"
   ]
  },
  {
   "cell_type": "code",
   "execution_count": null,
   "metadata": {},
   "outputs": [],
   "source": [
    "\n",
    "display(\n",
    "md(f\"# Data Plausibility Check (numeric values) for {codelist} codelist\"),\n",
    "md(f\"Note: all row/patient counts are shown in thousands.\"),\n",
    ")\n"
   ]
  },
  {
   "cell_type": "code",
   "execution_count": null,
   "metadata": {},
   "outputs": [],
   "source": [
    "\n",
    "display(\n",
    "md(\"### Methods\"),\n",
    "md(f\"This includes all patients in OpenSAFELY-TPP, covering 40% of England's population.\"),\n",
    "md(f\"All analytical code and output is available for inspection at the [OpenSAFELY GitHub repository](https://github.com/opensafely)\")\n",
    ")\n"
   ]
  },
  {
   "cell_type": "code",
   "execution_count": null,
   "metadata": {},
   "outputs": [],
   "source": [
    "display(\n",
    "md(f'''This notebook was run on {date.today().strftime('%Y-%m-%d')}\n",
    "    and includes all activity within the {codelist} codelist recorded in {year}.'''\n",
    "    )\n",
    ")"
   ]
  },
  {
   "cell_type": "code",
   "execution_count": null,
   "metadata": {},
   "outputs": [],
   "source": [
    "\n",
    "display(md(\"### Codelist\"))\n",
    "codelist = import_codelist(codelist_name=codelist_name, code_column=code_column, term_column=term_column)\n",
    "display(codelist)\n"
   ]
  },
  {
   "cell_type": "code",
   "execution_count": null,
   "metadata": {},
   "outputs": [],
   "source": [
    "\n",
    "display(md(\"### Import data\"))\n",
    "df = numeric_values_query(dbconn, codelist=codelist, lower=lower, upper=upper, year=year)\n"
   ]
  },
  {
   "cell_type": "code",
   "execution_count": null,
   "metadata": {},
   "outputs": [],
   "source": [
    "\n",
    "display(md(\"### Numeric Value Summary\"))\n",
    "summarise_numeric_values(df=df, codelist_name=codelist_name, codelist=codelist, code_column=code_column, term_column=term_column)\n"
   ]
  }
 ],
 "metadata": {
  "language_info": {
   "name": "python"
  }
 },
 "nbformat": 4,
 "nbformat_minor": 4
}
