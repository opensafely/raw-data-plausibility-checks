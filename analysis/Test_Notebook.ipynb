{
 "cells": [
  {
   "cell_type": "code",
   "execution_count": null,
   "id": "embedded-defendant",
   "metadata": {},
   "outputs": [],
   "source": [
    "\n",
    "import sys\n",
    "import pandas as pd\n",
    "import numpy as np\n",
    "import matplotlib.pyplot as plt\n",
    "from pandas.plotting import register_matplotlib_converters\n",
    "register_matplotlib_converters()\n",
    "from IPython.display import HTML\n",
    "from IPython.display import Markdown as md\n",
    "from IPython.core.display import HTML as Center\n",
    "from config import dbconn, dataset, columns_to_describe\n",
    "from IPython.display import Image, display\n",
    "from utilities import *\n",
    "%matplotlib inline\n",
    "\n",
    "import pyodbc\n",
    "import os\n",
    "from datetime import date, datetime\n",
    "\n",
    "#from utilities import *\n",
    "from sense_checking import *\n",
    "\n",
    "pd.set_option('display.max_colwidth', 250)\n",
    "\n",
    "# get the server credentials\n",
    "dbconn = os.environ.get('FULL_DATABASE_URL', None).strip('\"')\n",
    "\n"
   ]
  },
  {
   "cell_type": "code",
   "execution_count": null,
   "id": "educational-applicant",
   "metadata": {},
   "outputs": [],
   "source": [
    "\n",
    "display(\n",
    "md(\"# Data Plausibility Check for {dataset}\"),\n",
    "md(f\"Note: all row/patient counts are rounded to the nearest 10 and counts <=5 removed\"),\n",
    ")\n"
   ]
  },
  {
   "cell_type": "code",
   "execution_count": null,
   "id": "annoying-completion",
   "metadata": {},
   "outputs": [],
   "source": [
    "\n",
    "display(\n",
    "md(\"### Methods\"),\n",
    "md(f\"The {dataset} dataset has been linked to patients in OpenSAFELY-TPP, covering 40% of England's population.\"),\n",
    "md(f\"All analytical code and output is available for inspection at the [OpenSAFELY GitHub repository](https://github.com/opensafely)\")\n",
    ")\n"
   ]
  },
  {
   "cell_type": "code",
   "execution_count": null,
   "id": "forbidden-dakota",
   "metadata": {},
   "outputs": [],
   "source": [
    "\n",
    "image_paths['total'] = '../output/joined/plot_total.png'\n"
   ]
  },
  {
   "cell_type": "code",
   "execution_count": null,
   "id": "arctic-yeast",
   "metadata": {},
   "outputs": [],
   "source": [
    "display(\n",
    "md(f\"This notebook was run on {date.today().strftime('%Y-%m-%d')}\"    \"and reflects the dataset at this date, \"    \"but has been filtered to reflect the original data submission (`'Received' <= 2022-01-24`).\"\n",
    "    )\n",
    ")"
   ]
  },
  {
   "cell_type": "code",
   "execution_count": null,
   "id": "tested-funds",
   "metadata": {},
   "outputs": [],
   "source": [
    "\n",
    "display(md(\"### Schema\"))\n",
    "get_schema(dbconn, table=dataset, where=schema_filter)\n"
   ]
  },
  {
   "cell_type": "code",
   "execution_count": null,
   "id": "prostate-vessel",
   "metadata": {},
   "outputs": [],
   "source": [
    "\n",
    "display(md(\"### Column Summaries\"))\n",
    "\n",
    "counts_of_distinct_values(dbconn, table=dataset, \n",
    "    columns=columns_to_describe[\"columns\"], \n",
    "    threshold=columns_to_describe[\"threshold\"], \n",
    "    where=columns_to_describe[\"where\"],\n",
    "    include_counts=columns_to_describe[\"include_counts\"]\n",
    "    )\n"
   ]
  }
 ],
 "metadata": {},
 "nbformat": 4,
 "nbformat_minor": 5
}
